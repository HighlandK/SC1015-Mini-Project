{
 "cells": [
  {
   "cell_type": "code",
   "execution_count": null,
   "id": "41154507",
   "metadata": {},
   "outputs": [],
   "source": [
    "import numpy as np\n",
    "import matplotlib.pyplot as plt\n",
    "from sklearn.neighbors import KNeighborsClassifier\n",
    "from sklearn.metrics import confusion_matrix, accuracy_score\n",
    "from sklearn.model_selection import train_test_split\n",
    "from sklearn.datasets import fetch_openml\n",
    "\n",
    "# RUDRA'S VERSION, SPLIT TRAIN AND TEST DATASETS COMPLETELY\n",
    "train_data = np.loadtxt('mnist_train.csv', delimiter=',', skiprows=1)\n",
    "X_train = train_data[:, 1:]  # Pixel values\n",
    "y_train = train_data[:, 0].astype(int)  # Labels\n",
    "\n",
    "# Load the test data\n",
    "test_data = np.loadtxt('mnist_test.csv', delimiter=',', skiprows=1)\n",
    "X_test = test_data[:, 1:]  # Pixel values\n",
    "y_test = test_data[:, 0].astype(int)  # Labels\n",
    "\n",
    "# Train a KNN classifier on the training set\n",
    "knn = KNeighborsClassifier(n_neighbors=5)\n",
    "knn.fit(X_train, y_train)\n",
    "\n",
    "# Make predictions on the testing set\n",
    "y_pred = knn.predict(X_test)\n",
    "\n",
    "# Calculate the accuracy of the classifier\n",
    "accuracy = accuracy_score(y_test, y_pred)\n",
    "print('Accuracy:', accuracy)\n",
    "\n",
    "\n",
    "\n"
   ]
  },
  {
   "cell_type": "code",
   "execution_count": null,
   "id": "aafd334f",
   "metadata": {},
   "outputs": [],
   "source": [
    "# Make predictions on the correct test set\n",
    "predictions = knn.predict(X_test)\n",
    "\n",
    "# Generate the confusion matrix\n",
    "cm = confusion_matrix(y_test, predictions)\n",
    "\n",
    "# Calculate accuracy for each digit\n",
    "digit_accuracy = cm.diagonal() / cm.sum(axis=1)\n",
    "\n",
    "# Calculate and print the overall accuracy\n",
    "accuracy = accuracy_score(y_test, predictions)\n",
    "print(f\"Overall Accuracy: {accuracy:.4f}\\n\")\n",
    "\n",
    "for digit in range(10):\n",
    "    print(f\"Accuracy for digit {digit}: {digit_accuracy[digit]:.4f}\")"
   ]
  },
  {
   "cell_type": "code",
   "execution_count": null,
   "id": "d051236e",
   "metadata": {},
   "outputs": [],
   "source": [
    "# Plot some example images and their predicted labels\n",
    "fig, axes = plt.subplots(nrows=3, ncols=5, figsize=(10, 6))\n",
    "for i, ax in enumerate(axes.flat):\n",
    "    ax.imshow(X_test[i].reshape(28, 28), cmap='binary')\n",
    "    ax.set(title = f\"Predicted Label : {y_pred[i]}\")\n",
    "    ax.axis('off')\n",
    "plt.show()\n"
   ]
  }
 ],
 "metadata": {
  "kernelspec": {
   "display_name": "Python 3 (ipykernel)",
   "language": "python",
   "name": "python3"
  },
  "language_info": {
   "codemirror_mode": {
    "name": "ipython",
    "version": 3
   },
   "file_extension": ".py",
   "mimetype": "text/x-python",
   "name": "python",
   "nbconvert_exporter": "python",
   "pygments_lexer": "ipython3",
   "version": "3.11.5"
  }
 },
 "nbformat": 4,
 "nbformat_minor": 5
}
