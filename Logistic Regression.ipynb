{
 "cells": [
  {
   "cell_type": "code",
   "execution_count": null,
   "id": "d7e76987",
   "metadata": {},
   "outputs": [],
   "source": [
    "#askNarelle's code:\n",
    "import numpy as np\n",
    "import matplotlib.pyplot as plt\n",
    "from sklearn.datasets import fetch_openml\n",
    "from sklearn.linear_model import LogisticRegression\n",
    "from sklearn.model_selection import train_test_split\n",
    "from sklearn.metrics import accuracy_score"
   ]
  },
  {
   "cell_type": "code",
   "execution_count": null,
   "id": "685343f9",
   "metadata": {},
   "outputs": [],
   "source": [
    "# RUDRA'S VERSION, SPLIT TRAIN AND TEST DATASETS COMPLETELY\n",
    "train_data = np.loadtxt('mnist_train.csv', delimiter=',', skiprows=1)\n",
    "X_train = train_data[:, 1:]  # Pixel values\n",
    "y_train = train_data[:, 0].astype(int)  # Labels\n",
    "\n",
    "# Load the test data\n",
    "test_data = np.loadtxt('mnist_test.csv', delimiter=',', skiprows=1)\n",
    "X_test = test_data[:, 1:]  # Pixel values\n",
    "y_test = test_data[:, 0].astype(int)  # Labels"
   ]
  },
  {
   "cell_type": "code",
   "execution_count": null,
   "id": "bfe4dc98",
   "metadata": {},
   "outputs": [],
   "source": [
    "# Create a logistic regression model\n",
    "model = LogisticRegression(solver='lbfgs', max_iter=1000, multi_class='multinomial')\n",
    "\n",
    "# Train the model on the training data\n",
    "model.fit(X_train, y_train)\n",
    "\n",
    "# Make predictions on the testing data\n",
    "y_pred = model.predict(X_test)\n"
   ]
  },
  {
   "cell_type": "code",
   "execution_count": null,
   "id": "9678354d",
   "metadata": {},
   "outputs": [],
   "source": [
    "# Calculate the accuracy of the model\n",
    "accuracy = accuracy_score(y_test, y_pred)\n",
    "print(\"Accuracy:\", accuracy)"
   ]
  },
  {
   "cell_type": "code",
   "execution_count": null,
   "id": "c8d754e4",
   "metadata": {},
   "outputs": [],
   "source": [
    "# Plot some example images and their predicted labels\n",
    "fig, axes = plt.subplots(nrows=4, ncols=4, figsize=(8, 8))\n",
    "for i, ax in enumerate(axes.flat):\n",
    "    ax.imshow(X_test[i].reshape(28, 28), cmap='binary')\n",
    "    ax.set(title = f\"Predicted Label : {y_pred[i]}\")\n",
    "    ax.axis('off')\n",
    "plt.show()"
   ]
  }
 ],
 "metadata": {
  "kernelspec": {
   "display_name": "Python 3 (ipykernel)",
   "language": "python",
   "name": "python3"
  },
  "language_info": {
   "codemirror_mode": {
    "name": "ipython",
    "version": 3
   },
   "file_extension": ".py",
   "mimetype": "text/x-python",
   "name": "python",
   "nbconvert_exporter": "python",
   "pygments_lexer": "ipython3",
   "version": "3.11.5"
  }
 },
 "nbformat": 4,
 "nbformat_minor": 5
}
